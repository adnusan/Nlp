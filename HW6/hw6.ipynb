{
 "cells": [
  {
   "cell_type": "code",
   "execution_count": 5,
   "metadata": {},
   "outputs": [
    {
     "name": "stdout",
     "output_type": "stream",
     "text": [
      "  Great quality, beautiful color.  We have had the same one for a few months now and love\n",
      "1                                                                                        \n",
      "1       Perfect. They do exactly what I need them to do. I will keep them for a long time\n",
      "1     Excellent product and a much better quality than the one you get at Walmart for $50\n",
      "0                                                          A little pricey for what it is\n",
      "0                                             sheds all over, would not buy it ever again\n",
      "1                           service was great, can't wait to try it out!Very good quality\n",
      "0                              bottom will not stay on. zero customer service  do not buy\n",
      "0                                                             Does not do a very good job\n",
      "0                                                                        difficult to use\n",
      "1                                                             I am happy with my purchase\n",
      "0                                                                     so poor on quality \n",
      "0                                             it was broken and the glass is  cracked bad\n",
      "0                                             Only negative is the shape of the container\n",
      "0                                                                      Worst product ever\n",
      "1                                                                         Works very well\n",
      "1                                                          Perfect! this bag is well made\n",
      "0                                                               heaply made, poor quality\n",
      "1                                                       Item as advertised, fast shipping\n",
      "1                                                                         arrived on time\n",
      "1                                                          This is a must have for anyone\n",
      "1                                                                             Awesome bag\n",
      "0                                                            The mask was a very poor fit\n",
      "1                                                          I've really enjoyed using this\n",
      "0                                                  Unfortunately, there were no batteries\n",
      "1                                                                     These are adorable!\n",
      "1                                                                             Seems great\n",
      "1                                                       Much faster than the other brands\n",
      "1                                                        Good product was worth the money\n",
      "0                                                                     Quality is not good\n",
      "1                                     am really impressed with the sound quality of these\n",
      "1                                                                    Well worth the money\n",
      "1                                                      Great feedback and smooth function\n",
      "Enter \"q\" to end: \n",
      "Courpus: 1865-Lincoln.txt from inaugural corpus\n",
      "hello world\n"
     ]
    }
   ],
   "source": [
    "'''Text Classification Using Naive Bayes \n",
    "\n",
    "Step 1) Create Training set & Test set \n",
    "\n",
    "1.a) Manually create a small labeled dataset for a two-class problem (e.g. spam vs ham OR positive vs negative reviews).  Aim for 30 or more datapoints for this dataset.  Each datapoint consists of a tuple: a document and its class label.  The document can simply be a sentence or two.   \n",
    "\n",
    "1.b) Split this dataset into Training set (80%) and Test set (20%). \n",
    "\n",
    "1.c) Store the created data into two files: train.csv and test.csv (One datapoint per line)\n",
    "\n",
    "Step 2) Train a Naive Bayes classifier (Program 1)\n",
    "\n",
    "2.a) Read in training set from the train.csv file \n",
    "\n",
    "2.b) Calculate the prior probabilities for both classes using the training set\n",
    "\n",
    "2.b) Calculate the conditional probability of each unique word in the training set given a class. Compute these conditional probabilities for each class. \n",
    "\n",
    "2.c) Output the learnt classification model (all the above probabilities) to a file named model.csv\n",
    "\n",
    "Step 3) Use the learnt NB classifier (Program 2)\n",
    "\n",
    "3.a) Read in the model.csv file and the test.csv files \n",
    "\n",
    "3.b) Use the classification model to predict class label for each document in the test set\n",
    "\n",
    "3.c) Output each of the test document, its predicted class label, and its actual class label to a file named test_predictions.csv\n",
    "\n",
    "'''\n",
    "\n",
    "import random\n",
    "import re\n",
    "import nltk\n",
    "import pandas as pd\n",
    "\n",
    "train = pd.read_csv('train.csv', index_col=0)\n",
    "print(train.to_string())\n",
    "\n",
    "\n",
    "class training:\n",
    "    def print(self):\n",
    "        print(\"hellow world\")\n",
    "        \n",
    "    #reading the training data from csv file\n",
    "    \n",
    "    #2.b) Calculate the prior probabilities for both classes using the training set\n",
    "    \n",
    "\n",
    "\n",
    "\n",
    "\n",
    "\n",
    "\n",
    "\n",
    "\n",
    "def run():\n",
    "    print(\"hello world\")\n",
    "\n",
    "if __name__ == \"__main__\":\n",
    "    print(\"Enter \\\"q\\\" to end: \")\n",
    "    print(\"Courpus: 1865-Lincoln.txt from inaugural corpus\")\n",
    "    run()\n"
   ]
  },
  {
   "cell_type": "code",
   "execution_count": 15,
   "metadata": {},
   "outputs": [
    {
     "name": "stdout",
     "output_type": "stream",
     "text": [
      "Int64Index([1, 1, 1, 0, 0, 1, 0, 0, 0, 1, 0, 0, 0, 0, 1, 1, 0, 1, 1, 1, 1, 0,\n",
      "            1, 0, 1, 1, 1, 1, 0, 1, 1, 1],\n",
      "           dtype='int64', name=0)\n"
     ]
    }
   ],
   "source": [
    "import random\n",
    "import re\n",
    "import nltk\n",
    "import pandas as pd\n",
    "\n",
    "train = pd.read_csv('train.csv', header=None, index_col=0)\n",
    "#print(train.to_string())\n",
    "print(train)"
   ]
  }
 ],
 "metadata": {
  "kernelspec": {
   "display_name": "Python 3.8.13 ('nlpenv')",
   "language": "python",
   "name": "python3"
  },
  "language_info": {
   "codemirror_mode": {
    "name": "ipython",
    "version": 3
   },
   "file_extension": ".py",
   "mimetype": "text/x-python",
   "name": "python",
   "nbconvert_exporter": "python",
   "pygments_lexer": "ipython3",
   "version": "3.8.13"
  },
  "orig_nbformat": 4,
  "vscode": {
   "interpreter": {
    "hash": "e36713bed272a9d114316a294fb6c1a826f423acbc1d9527c9480bc3366607df"
   }
  }
 },
 "nbformat": 4,
 "nbformat_minor": 2
}
