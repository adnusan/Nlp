{
 "cells": [
  {
   "cell_type": "code",
   "execution_count": null,
   "metadata": {},
   "outputs": [],
   "source": [
    "'''Text Classification Using Naive Bayes \n",
    "\n",
    "Step 1) Create Training set & Test set \n",
    "\n",
    "1.a) Manually create a small labeled dataset for a two-class problem (e.g. spam vs ham OR positive vs negative reviews).  Aim for 30 or more datapoints for this dataset.  Each datapoint consists of a tuple: a document and its class label.  The document can simply be a sentence or two.   \n",
    "\n",
    "1.b) Split this dataset into Training set (80%) and Test set (20%). \n",
    "\n",
    "1.c) Store the created data into two files: train.csv and test.csv (One datapoint per line)\n",
    "\n",
    "Step 2) Train a Naive Bayes classifier (Program 1)\n",
    "\n",
    "2.a) Read in training set from the train.csv file \n",
    "\n",
    "2.b) Calculate the prior probabilities for both classes using the training set\n",
    "\n",
    "2.b) Calculate the conditional probability of each unique word in the training set given a class. Compute these conditional probabilities for each class. \n",
    "\n",
    "2.c) Output the learnt classification model (all the above probabilities) to a file named model.csv\n",
    "\n",
    "Step 3) Use the learnt NB classifier (Program 2)\n",
    "\n",
    "3.a) Read in the model.csv file and the test.csv files \n",
    "\n",
    "3.b) Use the classification model to predict class label for each document in the test set\n",
    "\n",
    "3.c) Output each of the test document, its predicted class label, and its actual class label to a file named test_predictions.csv\n",
    "\n",
    "'''\n",
    "\n",
    "import random\n",
    "import re\n",
    "import nltk\n",
    "import pandas as pd\n",
    "\n",
    "\n",
    "\n",
    "\n",
    "\n",
    "\n",
    "\n",
    "\n",
    "\n",
    "\n",
    "\n",
    "\n",
    "\n",
    "\n",
    "\n",
    "\n",
    "\n",
    "\n",
    "\n",
    "\n",
    "\n",
    "\n",
    "\n",
    "\n"
   ]
  }
 ],
 "metadata": {
  "kernelspec": {
   "display_name": "Python 3.8.13 ('nlpenv')",
   "language": "python",
   "name": "python3"
  },
  "language_info": {
   "name": "python",
   "version": "3.8.13"
  },
  "orig_nbformat": 4,
  "vscode": {
   "interpreter": {
    "hash": "e36713bed272a9d114316a294fb6c1a826f423acbc1d9527c9480bc3366607df"
   }
  }
 },
 "nbformat": 4,
 "nbformat_minor": 2
}
