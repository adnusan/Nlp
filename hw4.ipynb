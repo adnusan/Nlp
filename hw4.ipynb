{
 "cells": [
  {
   "cell_type": "code",
   "execution_count": 30,
   "metadata": {},
   "outputs": [
    {
     "name": "stdout",
     "output_type": "stream",
     "text": [
      "Total words in corpus: 785\n",
      "Unique vocab #:  345\n",
      "Total bigrams:  786\n",
      "Unique bigram #:  700\n",
      "{('fellow', '-'): 1, ('-', 'countrymen'): 1, ('countrymen', ':'): 1, (':', 'at'): 1, ('at', 'this'): 1, ('this', 'second'): 1, ('second', 'appearing'): 1, ('appearing', 'to'): 1, ('to', 'take'): 1, ('take', 'the'): 1, ('the', 'oath'): 1, ('oath', 'of'): 1, ('of', 'the'): 7, ('the', 'presidential'): 1, ('presidential', 'office'): 1, ('office', 'there'): 1, ('there', 'is'): 1, ('is', 'less'): 1, ('less', 'occasion'): 1, ('occasion', 'for'): 1, ('for', 'an'): 2, ('an', 'extended'): 1, ('extended', 'address'): 1, ('address', 'than'): 1, ('than', 'there'): 1, ('there', 'was'): 1, ('was', 'at'): 1, ('at', 'the'): 2, ('the', 'first'): 1, ('first', '.'): 1, ('.', 'then'): 1, ('then', 'a'): 1, ('a', 'statement'): 1, ('statement', 'somewhat'): 1, ('somewhat', 'in'): 1, ('in', 'detail'): 1, ('detail', 'of'): 1, ('of', 'a'): 1, ('a', 'course'): 1, ('course', 'to'): 1, ('to', 'be'): 1, ('be', 'pursued'): 1, ('pursued', 'seemed'): 1, ('seemed', 'fitting'): 1, ('fitting', 'and'): 1, ('and', 'proper'): 1, ('proper', '.'): 1, ('.', 'now'): 1, ('now', ','): 1, (',', 'at'): 1, ('the', 'expiration'): 1, ('expiration', 'of'): 1, ('of', 'four'): 1, ('four', 'years'): 2, ('years', ','): 1, (',', 'during'): 1, ('during', 'which'): 1, ('which', 'public'): 1, ('public', 'declarations'): 1, ('declarations', 'have'): 1, ('have', 'been'): 1, ('been', 'constantly'): 1, ('constantly', 'called'): 1, ('called', 'forth'): 1, ('forth', 'on'): 1, ('on', 'every'): 1, ('every', 'point'): 1, ('point', 'and'): 1, ('and', 'phase'): 1, ('phase', 'of'): 1, ('the', 'great'): 1, ('great', 'contest'): 1, ('contest', 'which'): 1, ('which', 'still'): 1, ('still', 'absorbs'): 1, ('absorbs', 'the'): 1, ('the', 'attention'): 1, ('attention', 'and'): 1, ('and', 'engrosses'): 1, ('engrosses', 'the'): 1, ('the', 'energies'): 1, ('energies', 'of'): 1, ('the', 'nation'): 3, ('nation', ','): 1, (',', 'little'): 1, ('little', 'that'): 1, ('that', 'is'): 1, ('is', 'new'): 1, ('new', 'could'): 1, ('could', 'be'): 1, ('be', 'presented'): 1, ('presented', '.'): 1, ('.', 'the'): 3, ('the', 'progress'): 1, ('progress', 'of'): 1, ('of', 'our'): 1, ('our', 'arms'): 1, ('arms', ','): 1, (',', 'upon'): 1, ('upon', 'which'): 1, ('which', 'all'): 1, ('all', 'else'): 1, ('else', 'chiefly'): 1, ('chiefly', 'depends'): 1, ('depends', ','): 1, (',', 'is'): 1, ('is', 'as'): 1, ('as', 'well'): 1, ('well', 'known'): 1, ('known', 'to'): 1, ('to', 'the'): 2, ('the', 'public'): 1, ('public', 'as'): 1, ('as', 'to'): 1, ('to', 'myself'): 1, ('myself', ','): 1, (',', 'and'): 8, ('and', 'it'): 1, ('it', 'is'): 2, ('is', ','): 1, (',', 'i'): 1, ('i', 'trust'): 1, ('trust', ','): 1, (',', 'reasonably'): 1, ('reasonably', 'satisfactory'): 1, ('satisfactory', 'and'): 1, ('and', 'encouraging'): 1, ('encouraging', 'to'): 1, ('to', 'all'): 1, ('all', '.'): 1, ('.', 'with'): 1, ('with', 'high'): 1, ('high', 'hope'): 1, ('hope', 'for'): 1, ('for', 'the'): 2, ('the', 'future'): 1, ('future', ','): 1, (',', 'no'): 1, ('no', 'prediction'): 1, ('prediction', 'in'): 1, ('in', 'regard'): 1, ('regard', 'to'): 1, ('to', 'it'): 1, ('is', 'ventured'): 1, ('ventured', '.'): 1, ('.', 'on'): 1, ('on', 'the'): 1, ('the', 'occasion'): 1, ('occasion', 'corresponding'): 1, ('corresponding', 'to'): 1, ('to', 'this'): 1, ('this', 'four'): 1, ('years', 'ago'): 2, ('ago', 'all'): 1, ('all', 'thoughts'): 1, ('thoughts', 'were'): 1, ('were', 'anxiously'): 1, ('anxiously', 'directed'): 1, ('directed', 'to'): 1, ('to', 'an'): 1, ('an', 'impending'): 1, ('impending', 'civil'): 1, ('civil', 'war'): 1, ('war', '.'): 2, ('.', 'all'): 2, ('all', 'dreaded'): 1, ('dreaded', 'it'): 1, ('it', 'all'): 1, ('all', 'sought'): 1, ('sought', 'to'): 1, ('to', 'avert'): 1, ('avert', 'it'): 1, ('it', '.'): 3, ('.', 'while'): 1, ('while', 'the'): 2, ('the', 'inaugural'): 1, ('inaugural', 'address'): 1, ('address', 'was'): 1, ('was', 'being'): 1, ('being', 'delivered'): 1, ('delivered', 'from'): 1, ('from', 'this'): 1, ('this', 'place'): 1, ('place', ','): 1, (',', 'devoted'): 1, ('devoted', 'altogether'): 1, ('altogether', 'to'): 1, ('to', 'saving'): 1, ('saving', 'the'): 1, ('the', 'union'): 4, ('union', 'without'): 1, ('without', 'war'): 2, ('war', ','): 3, (',', 'urgent'): 1, ('urgent', 'agents'): 1, ('agents', 'were'): 1, ('were', 'in'): 1, ('in', 'the'): 4, ('the', 'city'): 1, ('city', 'seeking'): 1, ('seeking', 'to'): 2, ('to', 'destroy'): 1, ('destroy', 'it'): 1, ('it', 'without'): 1, ('war', '--'): 1, ('--', 'seeking'): 1, ('to', 'dissolve'): 1, ('dissolve', 'the'): 1, ('union', 'and'): 1, ('and', 'divide'): 1, ('divide', 'effects'): 1, ('effects', 'by'): 1, ('by', 'negotiation'): 1, ('negotiation', '.'): 1, ('.', 'both'): 2, ('both', 'parties'): 1, ('parties', 'deprecated'): 1, ('deprecated', 'war'): 1, (',', 'but'): 5, ('but', 'one'): 1, ('one', 'of'): 2, ('of', 'them'): 1, ('them', 'would'): 1, ('would', 'make'): 1, ('make', 'war'): 1, ('war', 'rather'): 2, ('rather', 'than'): 2, ('than', 'let'): 2, ('let', 'the'): 1, ('nation', 'survive'): 1, ('survive', ','): 1, ('and', 'the'): 2, ('the', 'other'): 2, ('other', 'would'): 1, ('would', 'accept'): 1, ('accept', 'war'): 1, ('let', 'it'): 1, ('it', 'perish'): 1, ('perish', ','): 1, ('the', 'war'): 3, ('war', 'came'): 1, ('came', '.'): 1, ('.', 'one'): 1, ('one', '-'): 1, ('-', 'eighth'): 1, ('eighth', 'of'): 1, ('the', 'whole'): 1, ('whole', 'population'): 1, ('population', 'were'): 1, ('were', 'colored'): 1, ('colored', 'slaves'): 1, ('slaves', ','): 1, (',', 'not'): 1, ('not', 'distributed'): 1, ('distributed', 'generally'): 1, ('generally', 'over'): 1, ('over', 'the'): 1, ('union', ','): 1, ('but', 'localized'): 1, ('localized', 'in'): 1, ('the', 'southern'): 1, ('southern', 'part'): 1, ('part', 'of'): 1, ('of', 'it'): 2, ('.', 'these'): 1, ('these', 'slaves'): 1, ('slaves', 'constituted'): 1, ('constituted', 'a'): 1, ('a', 'peculiar'): 1, ('peculiar', 'and'): 1, ('and', 'powerful'): 1, ('powerful', 'interest'): 1, ('interest', '.'): 1, ('all', 'knew'): 1, ('knew', 'that'): 1, ('that', 'this'): 2, ('this', 'interest'): 2, ('interest', 'was'): 2, ('was', 'somehow'): 1, ('somehow', 'the'): 1, ('the', 'cause'): 2, ('cause', 'of'): 2, ('.', 'to'): 1, ('to', 'strengthen'): 1, ('strengthen', ','): 1, (',', 'perpetuate'): 1, ('perpetuate', ','): 1, ('and', 'extend'): 1, ('extend', 'this'): 1, ('was', 'the'): 1, ('the', 'object'): 1, ('object', 'for'): 1, ('for', 'which'): 1, ('which', 'the'): 2, ('the', 'insurgents'): 1, ('insurgents', 'would'): 1, ('would', 'rend'): 1, ('rend', 'the'): 1, ('union', 'even'): 1, ('even', 'by'): 1, ('by', 'war'): 1, (',', 'while'): 1, ('the', 'government'): 1, ('government', 'claimed'): 1, ('claimed', 'no'): 1, ('no', 'right'): 1, ('right', 'to'): 1, ('to', 'do'): 2, ('do', 'more'): 1, ('more', 'than'): 1, ('than', 'to'): 1, ('to', 'restrict'): 1, ('restrict', 'the'): 1, ('the', 'territorial'): 1, ('territorial', 'enlargement'): 1, ('enlargement', 'of'): 1, ('.', 'neither'): 2, ('neither', 'party'): 1, ('party', 'expected'): 1, ('expected', 'for'): 1, ('war', 'the'): 1, ('the', 'magnitude'): 1, ('magnitude', 'or'): 1, ('or', 'the'): 1, ('the', 'duration'): 1, ('duration', 'which'): 1, ('which', 'it'): 1, ('it', 'has'): 1, ('has', 'already'): 1, ('already', 'attained'): 1, ('attained', '.'): 1, ('neither', 'anticipated'): 1, ('anticipated', 'that'): 1, ('that', 'the'): 1, ('the', 'conflict'): 2, ('conflict', 'might'): 1, ('might', 'cease'): 1, ('cease', 'with'): 1, ('with', 'or'): 1, ('or', 'even'): 1, ('even', 'before'): 1, ('before', 'the'): 1, ('conflict', 'itself'): 1, ('itself', 'should'): 1, ('should', 'cease'): 1, ('cease', '.'): 1, ('.', 'each'): 1, ('each', 'looked'): 1, ('looked', 'for'): 1, ('an', 'easier'): 1, ('easier', 'triumph'): 1, ('triumph', ','): 1, ('and', 'a'): 1, ('a', 'result'): 1, ('result', 'less'): 1, ('less', 'fundamental'): 1, ('fundamental', 'and'): 1, ('and', 'astounding'): 1, ('astounding', '.'): 1, ('both', 'read'): 1, ('read', 'the'): 1, ('the', 'same'): 2, ('same', 'bible'): 1, ('bible', 'and'): 1, ('and', 'pray'): 1, ('pray', 'to'): 1, ('same', 'god'): 1, ('god', ','): 2, ('and', 'each'): 1, ('each', 'invokes'): 1, ('invokes', 'his'): 1, ('his', 'aid'): 1, ('aid', 'against'): 1, ('against', 'the'): 1, ('other', '.'): 1, ('.', 'it'): 1, ('it', 'may'): 1, ('may', 'seem'): 1, ('seem', 'strange'): 1, ('strange', 'that'): 1, ('that', 'any'): 1, ('any', 'men'): 1, ('men', 'should'): 1, ('should', 'dare'): 1, ('dare', 'to'): 1, ('to', 'ask'): 1, ('ask', 'a'): 1, ('a', 'just'): 2, ('just', 'god'): 1, ('god', \"'\"): 1, (\"'\", 's'): 4, ('s', 'assistance'): 1, ('assistance', 'in'): 1, ('in', 'wringing'): 1, ('wringing', 'their'): 1, ('their', 'bread'): 1, ('bread', 'from'): 1, ('from', 'the'): 1, ('the', 'sweat'): 1, ('sweat', 'of'): 1, ('of', 'other'): 1, ('other', 'men'): 1, ('men', \"'\"): 1, ('s', 'faces'): 1, ('faces', ','): 1, ('but', 'let'): 1, ('let', 'us'): 2, ('us', 'judge'): 1, ('judge', 'not'): 1, ('not', ','): 1, (',', 'that'): 2, ('that', 'we'): 1, ('we', 'be'): 1, ('be', 'not'): 1, ('not', 'judged'): 1, ('judged', '.'): 1, ('the', 'prayers'): 1, ('prayers', 'of'): 1, ('of', 'both'): 1, ('both', 'could'): 1, ('could', 'not'): 1, ('not', 'be'): 1, ('be', 'answered'): 1, ('answered', '.'): 1, ('.', 'that'): 1, ('that', 'of'): 1, ('of', 'neither'): 1, ('neither', 'has'): 1, ('has', 'been'): 1, ('been', 'answered'): 1, ('answered', 'fully'): 1, ('fully', '.'): 1, ('the', 'almighty'): 1, ('almighty', 'has'): 1, ('has', 'his'): 1, ('his', 'own'): 1, ('own', 'purposes'): 1, ('purposes', '.'): 1, ('.', '``'): 1, ('``', 'woe'): 1, ('woe', 'unto'): 1, ('unto', 'the'): 1, ('the', 'world'): 1, ('world', 'because'): 1, ('because', 'of'): 1, ('of', 'offenses'): 1, ('offenses', ';'): 1, (';', 'for'): 1, ('for', 'it'): 1, ('it', 'must'): 2, ('must', 'needs'): 2, ('needs', 'be'): 1, ('be', 'that'): 1, ('that', 'offenses'): 1, ('offenses', 'come'): 1, ('come', ','): 2, ('but', 'woe'): 1, ('woe', 'to'): 1, ('to', 'that'): 1, ('that', 'man'): 1, ('man', 'by'): 1, ('by', 'whom'): 2, ('whom', 'the'): 2, ('the', 'offense'): 2, ('offense', 'cometh'): 1, ('cometh', '.'): 1, ('.', \"''\"): 2, (\"''\", 'if'): 1, ('if', 'we'): 1, ('we', 'shall'): 1, ('shall', 'suppose'): 1, ('suppose', 'that'): 1, ('that', 'american'): 1, ('american', 'slavery'): 1, ('slavery', 'is'): 1, ('is', 'one'): 1, ('of', 'those'): 1, ('those', 'offenses'): 1, ('offenses', 'which'): 1, ('which', ','): 2, (',', 'in'): 1, ('the', 'providence'): 1, ('providence', 'of'): 1, ('of', 'god'): 1, (',', 'must'): 1, ('needs', 'come'): 1, ('but', 'which'): 1, (',', 'having'): 1, ('having', 'continued'): 1, ('continued', 'through'): 1, ('through', 'his'): 1, ('his', 'appointed'): 1, ('appointed', 'time'): 1, ('time', ','): 1, (',', 'he'): 1, ('he', 'now'): 1, ('now', 'wills'): 1, ('wills', 'to'): 1, ('to', 'remove'): 1, ('remove', ','): 1, ('and', 'that'): 1, ('that', 'he'): 1, ('he', 'gives'): 1, ('gives', 'to'): 1, ('to', 'both'): 1, ('both', 'north'): 1, ('north', 'and'): 1, ('and', 'south'): 1, ('south', 'this'): 1, ('this', 'terrible'): 1, ('terrible', 'war'): 1, ('war', 'as'): 1, ('as', 'the'): 1, ('the', 'woe'): 1, ('woe', 'due'): 1, ('due', 'to'): 1, ('to', 'those'): 1, ('those', 'by'): 1, ('offense', 'came'): 1, ('came', ','): 1, (',', 'shall'): 1, ('shall', 'we'): 1, ('we', 'discern'): 1, ('discern', 'therein'): 1, ('therein', 'any'): 1, ('any', 'departure'): 1, ('departure', 'from'): 1, ('from', 'those'): 1, ('those', 'divine'): 1, ('divine', 'attributes'): 1, ('attributes', 'which'): 1, ('the', 'believers'): 1, ('believers', 'in'): 1, ('in', 'a'): 1, ('a', 'living'): 1, ('living', 'god'): 1, ('god', 'always'): 1, ('always', 'ascribe'): 1, ('ascribe', 'to'): 1, ('to', 'him'): 1, ('him', '?'): 1, ('?', 'fondly'): 1, ('fondly', 'do'): 1, ('do', 'we'): 2, ('we', 'hope'): 1, ('hope', ','): 1, (',', 'fervently'): 1, ('fervently', 'do'): 1, ('we', 'pray'): 1, ('pray', ','): 1, ('this', 'mighty'): 1, ('mighty', 'scourge'): 1, ('scourge', 'of'): 1, ('of', 'war'): 1, ('war', 'may'): 1, ('may', 'speedily'): 1, ('speedily', 'pass'): 1, ('pass', 'away'): 1, ('away', '.'): 1, ('.', 'yet'): 1, ('yet', ','): 1, (',', 'if'): 1, ('if', 'god'): 1, ('god', 'wills'): 1, ('wills', 'that'): 1, ('that', 'it'): 1, ('it', 'continue'): 1, ('continue', 'until'): 1, ('until', 'all'): 1, ('all', 'the'): 1, ('the', 'wealth'): 1, ('wealth', 'piled'): 1, ('piled', 'by'): 1, ('by', 'the'): 1, ('the', 'bondsman'): 1, ('bondsman', \"'\"): 1, ('s', 'two'): 1, ('two', 'hundred'): 1, ('hundred', 'and'): 1, ('and', 'fifty'): 1, ('fifty', 'years'): 1, ('years', 'of'): 1, ('of', 'unrequited'): 1, ('unrequited', 'toil'): 1, ('toil', 'shall'): 1, ('shall', 'be'): 2, ('be', 'sunk'): 1, ('sunk', ','): 1, ('and', 'until'): 1, ('until', 'every'): 1, ('every', 'drop'): 1, ('drop', 'of'): 1, ('of', 'blood'): 1, ('blood', 'drawn'): 1, ('drawn', 'with'): 2, ('with', 'the'): 2, ('the', 'lash'): 1, ('lash', 'shall'): 1, ('be', 'paid'): 1, ('paid', 'by'): 1, ('by', 'another'): 1, ('another', 'drawn'): 1, ('the', 'sword'): 1, ('sword', ','): 1, (',', 'as'): 1, ('as', 'was'): 1, ('was', 'said'): 1, ('said', 'three'): 1, ('three', 'thousand'): 1, ('thousand', 'years'): 1, ('ago', ','): 1, (',', 'so'): 1, ('so', 'still'): 1, ('still', 'it'): 1, ('must', 'be'): 1, ('be', 'said'): 1, ('said', '``'): 1, ('``', 'the'): 1, ('the', 'judgments'): 1, ('judgments', 'of'): 1, ('the', 'lord'): 1, ('lord', 'are'): 1, ('are', 'true'): 1, ('true', 'and'): 1, ('and', 'righteous'): 1, ('righteous', 'altogether'): 1, ('altogether', '.'): 1, (\"''\", 'with'): 1, ('with', 'malice'): 1, ('malice', 'toward'): 1, ('toward', 'none'): 1, ('none', ','): 1, (',', 'with'): 2, ('with', 'charity'): 1, ('charity', 'for'): 1, ('for', 'all'): 1, ('all', ','): 1, ('with', 'firmness'): 1, ('firmness', 'in'): 1, ('the', 'right'): 2, ('right', 'as'): 1, ('as', 'god'): 1, ('god', 'gives'): 1, ('gives', 'us'): 1, ('us', 'to'): 1, ('to', 'see'): 1, ('see', 'the'): 1, ('right', ','): 1, (',', 'let'): 1, ('us', 'strive'): 1, ('strive', 'on'): 1, ('on', 'to'): 1, ('to', 'finish'): 1, ('finish', 'the'): 1, ('the', 'work'): 1, ('work', 'we'): 1, ('we', 'are'): 1, ('are', 'in'): 1, ('in', ','): 1, (',', 'to'): 3, ('to', 'bind'): 1, ('bind', 'up'): 1, ('up', 'the'): 1, ('nation', \"'\"): 1, ('s', 'wounds'): 1, ('wounds', ','): 1, ('to', 'care'): 1, ('care', 'for'): 1, ('for', 'him'): 1, ('him', 'who'): 1, ('who', 'shall'): 1, ('shall', 'have'): 1, ('have', 'borne'): 1, ('borne', 'the'): 1, ('the', 'battle'): 1, ('battle', 'and'): 1, ('and', 'for'): 1, ('for', 'his'): 1, ('his', 'widow'): 1, ('widow', 'and'): 1, ('and', 'his'): 1, ('his', 'orphan'): 1, ('orphan', ','): 1, ('do', 'all'): 1, ('all', 'which'): 1, ('which', 'may'): 1, ('may', 'achieve'): 1, ('achieve', 'and'): 1, ('and', 'cherish'): 1, ('cherish', 'a'): 1, ('just', 'and'): 1, ('and', 'lasting'): 1, ('lasting', 'peace'): 1, ('peace', 'among'): 1, ('among', 'ourselves'): 1, ('ourselves', 'and'): 1, ('and', 'with'): 1, ('with', 'all'): 1, ('all', 'nations'): 1, ('nations', '.'): 1}\n"
     ]
    },
    {
     "name": "stderr",
     "output_type": "stream",
     "text": [
      "[nltk_data] Downloading package inaugural to\n",
      "[nltk_data]     C:\\Users\\nusan\\AppData\\Roaming\\nltk_data...\n",
      "[nltk_data]   Package inaugural is already up-to-date!\n"
     ]
    }
   ],
   "source": [
    "import random\n",
    "import re\n",
    "import nltk\n",
    "nltk.download('inaugural')\n",
    "from nltk.corpus import inaugural\n",
    "from nltk.tokenize import word_tokenize\n",
    "from nltk.util import bigrams\n",
    "\n",
    "\n",
    "\"\"\"\"\n",
    "1) Build a bigram LM using the following two steps:\n",
    "\n",
    "1A) Use nltk to compile all the unique bigrams from the corpus you used for the previous assignment.  \n",
    "\n",
    "1B) Compute probability of each bigram using MLE (count(w1 w2)/count(w1)) \n",
    "\n",
    "2) Predict next word using the following steps:\n",
    "\n",
    "2A) Get an input word from user, inpW.\n",
    "\n",
    "2B) Use the bigram LM built in step 1 to find all the bigrams where the input word, inpW, is w1. \n",
    "Display all possible next words from these bigrams and their corresponding probabilities.  (Sort in descending order on probabilities)\"\"\"\n",
    "\n",
    "class bigram:\n",
    "\n",
    "    #function to normalize and tokenize corpus\n",
    "    #takes nltk corpus as param, returns list of words\n",
    "    def corpus_tokenize(valuec):\n",
    "        corpus = ' '.join(valuec)\n",
    "        normalize_corpus = corpus.lower()\n",
    "        tokenize = word_tokenize(normalize_corpus)\n",
    "        return tokenize\n",
    "  \n",
    "    #counting frequency of all words in the corpus\n",
    "    def vocab_builder(corpus):\n",
    "        vocab = {}\n",
    "        for x in corpus:\n",
    "            if vocab.get(x) == None:\n",
    "                vocab[x] = 1\n",
    "            else:\n",
    "                vocab[x] = vocab.get(x)+1\n",
    "        #print(vocab)\n",
    "        \n",
    "        return vocab\n",
    "    \n",
    "    \n",
    "    #finding frequency of each bigram\n",
    "    def bigram_freq(bigrams):\n",
    "        bigram_freq  = {}\n",
    "        for x in bigrams:\n",
    "            if bigram_freq.get(x) == None:\n",
    "                    bigram_freq[x] = 1\n",
    "            else:\n",
    "                    bigram_freq[x] = bigram_freq.get(x)+1\n",
    "            #print(vocab)\n",
    "        return bigram_freq\n",
    "\n",
    "    \n",
    "    \n",
    "    \n",
    "    \n",
    "def run():  \n",
    "    \n",
    "    #creating bigram class instance\n",
    "    bigram_obj = bigram\n",
    "    \n",
    "    inaugural_corpus = inaugural.words('1865-Lincoln.txt') #using inaugural corpus\n",
    "    tokened_corpus = bigram_obj.corpus_tokenize(inaugural_corpus) #tokenizing corpus\n",
    "    \n",
    "    #creating a dict that holds word and it's frequency\n",
    "    vocab_freq =  bigram_obj.vocab_builder(tokened_corpus)\n",
    "\n",
    "    bigram_list = list((bigrams(tokened_corpus))) #list of all the bigrams in the corpus_tokenize\n",
    "\n",
    "    #creating a dict that holds bigram and its frquency\n",
    "    bigram_freq =  bigram_obj.bigram_freq(bigram_list)\n",
    "    \n",
    "    print(\"Total words in corpus:\", len(inaugural_corpus))\n",
    "    print(\"Unique vocab #: \",len(vocab_freq))\n",
    "    print(\"Total bigrams: \", len(bigram_list))\n",
    "    print(\"Unique bigram #: \",len(bigram_freq))\n",
    "    #print( vocab_freq)\n",
    "    print(bigram_freq)\n",
    "    #{'red': [3,1], 'blue': [2,2]}\n",
    "\n",
    "\n",
    "if __name__ == \"__main__\":\n",
    "    run()"
   ]
  }
 ],
 "metadata": {
  "kernelspec": {
   "display_name": "Python 3.9.13 ('nlpenv')",
   "language": "python",
   "name": "python3"
  },
  "language_info": {
   "codemirror_mode": {
    "name": "ipython",
    "version": 3
   },
   "file_extension": ".py",
   "mimetype": "text/x-python",
   "name": "python",
   "nbconvert_exporter": "python",
   "pygments_lexer": "ipython3",
   "version": "3.9.13"
  },
  "orig_nbformat": 4,
  "vscode": {
   "interpreter": {
    "hash": "6801ae3e431dd180d2cc72d84ce6feb33b452596a28ade9b15354c20274f8a46"
   }
  }
 },
 "nbformat": 4,
 "nbformat_minor": 2
}
